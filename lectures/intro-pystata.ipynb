{
 "cells": [
  {
   "cell_type": "markdown",
   "id": "5ce40220",
   "metadata": {},
   "source": [
    "# Using pystata in Jupyter"
   ]
  },
  {
   "cell_type": "code",
   "execution_count": 6,
   "id": "556b8a61",
   "metadata": {},
   "outputs": [
    {
     "name": "stdout",
     "output_type": "stream",
     "text": [
      "\n",
      "  ___  ____  ____  ____  ____ ®\n",
      " /__    /   ____/   /   ____/      17.0\n",
      "___/   /   /___/   /   /___/       SE—Standard Edition\n",
      "\n",
      " Statistics and Data Science       Copyright 1985-2021 StataCorp LLC\n",
      "                                   StataCorp\n",
      "                                   4905 Lakeway Drive\n",
      "                                   College Station, Texas 77845 USA\n",
      "                                   800-STATA-PC        https://www.stata.com\n",
      "                                   979-696-4600        stata@stata.com\n",
      "\n",
      "Stata license: Single-user , expiring 13 Apr 2023\n",
      "Serial number: 401709207177\n",
      "  Licensed to: Matthew McKay\n",
      "               Australian National University\n",
      "\n",
      "Notes:\n",
      "      1. Unicode is supported; see help unicode_advice.\n",
      "      2. Maximum number of variables is set to 5,000; see help set_maxvar.\n"
     ]
    }
   ],
   "source": [
    "import stata_setup\n",
    "stata_setup.config(\"/Applications/Stata\", \"se\")"
   ]
  },
  {
   "cell_type": "code",
   "execution_count": null,
   "id": "e220db65",
   "metadata": {},
   "outputs": [],
   "source": []
  }
 ],
 "metadata": {
  "kernelspec": {
   "display_name": "Python 3 (ipykernel)",
   "language": "python",
   "name": "python3"
  },
  "language_info": {
   "codemirror_mode": {
    "name": "ipython",
    "version": 3
   },
   "file_extension": ".py",
   "mimetype": "text/x-python",
   "name": "python",
   "nbconvert_exporter": "python",
   "pygments_lexer": "ipython3",
   "version": "3.9.12"
  }
 },
 "nbformat": 4,
 "nbformat_minor": 5
}
