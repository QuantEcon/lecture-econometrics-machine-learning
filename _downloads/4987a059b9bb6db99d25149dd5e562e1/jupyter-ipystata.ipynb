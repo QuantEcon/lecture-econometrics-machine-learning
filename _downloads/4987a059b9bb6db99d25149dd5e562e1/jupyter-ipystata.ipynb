{
 "cells": [
  {
   "cell_type": "markdown",
   "metadata": {},
   "source": [
    "# IPyStata\n",
    "\n",
    "Using Stata through `%%stata` ipython magic command"
   ]
  },
  {
   "cell_type": "code",
   "execution_count": 1,
   "metadata": {},
   "outputs": [
    {
     "name": "stdout",
     "output_type": "stream",
     "text": [
      "IPyStata is loaded in batch mode.\n"
     ]
    }
   ],
   "source": [
    "import ipystata\n",
    "from ipystata.config import config_stata\n",
    "config_stata('/Applications/Stata/StataIC.app/Contents/MacOS/StataIC')"
   ]
  },
  {
   "cell_type": "code",
   "execution_count": 2,
   "metadata": {},
   "outputs": [
    {
     "name": "stdout",
     "output_type": "stream",
     "text": [
      "\n",
      "Hello, I am printed in Stata.\n"
     ]
    }
   ],
   "source": [
    "%%stata  \n",
    "display \"Hello, I am printed in Stata.\""
   ]
  },
  {
   "cell_type": "markdown",
   "metadata": {},
   "source": [
    "The data return types aren't always presented"
   ]
  },
  {
   "cell_type": "code",
   "execution_count": 3,
   "metadata": {},
   "outputs": [
    {
     "name": "stdout",
     "output_type": "stream",
     "text": [
      "\n",
      "(1978 Automobile Data)\n"
     ]
    },
    {
     "data": {
      "text/html": [
       "\n",
       "        <iframe\n",
       "            width=\"700\"\n",
       "            height=\"400\"\n",
       "            src=\"./temp_graph.pdf\"\n",
       "            frameborder=\"0\"\n",
       "            allowfullscreen\n",
       "        ></iframe>\n",
       "        "
      ],
      "text/plain": [
       "<IPython.lib.display.IFrame at 0x7f9284f70280>"
      ]
     },
     "execution_count": 3,
     "metadata": {},
     "output_type": "execute_result"
    }
   ],
   "source": [
    "%%stata -gr\n",
    "sysuse auto\n",
    "scatter price weight"
   ]
  },
  {
   "cell_type": "code",
   "execution_count": 4,
   "metadata": {},
   "outputs": [
    {
     "name": "stdout",
     "output_type": "stream",
     "text": [
      "\n",
      "(1978 Automobile Data)\n",
      "\n",
      "      Source |       SS           df       MS      Number of obs   =        74\n",
      "-------------+----------------------------------   F(1, 72)        =     29.42\n",
      "       Model |  12791822.9         1  12791822.9   Prob > F        =    0.0000\n",
      "    Residual |  31302355.5        72  434754.937   R-squared       =    0.2901\n",
      "-------------+----------------------------------   Adj R-squared   =    0.2802\n",
      "       Total |  44094178.4        73  604029.841   Root MSE        =    659.36\n",
      "\n",
      "------------------------------------------------------------------------------\n",
      "      weight |      Coef.   Std. Err.      t    P>|t|     [95% Conf. Interval]\n",
      "-------------+----------------------------------------------------------------\n",
      "       price |   .1419244   .0261645     5.42   0.000     .0897663    .1940824\n",
      "       _cons |   2144.459   178.5954    12.01   0.000     1788.436    2500.483\n",
      "------------------------------------------------------------------------------\n"
     ]
    }
   ],
   "source": [
    "%%stata\n",
    "sysuse auto\n",
    "reg weight price"
   ]
  },
  {
   "cell_type": "markdown",
   "metadata": {},
   "source": [
    "But in `batch` mode the `stata` sessions aren't stateful"
   ]
  },
  {
   "cell_type": "code",
   "execution_count": 5,
   "metadata": {},
   "outputs": [
    {
     "name": "stdout",
     "output_type": "stream",
     "text": [
      "\n",
      "no variables defined\n",
      "r(111);\n",
      "\n",
      "end of do-file\n",
      "r(111);\n"
     ]
    }
   ],
   "source": [
    "%%stata\n",
    "reg weight price"
   ]
  },
  {
   "cell_type": "markdown",
   "metadata": {},
   "source": [
    "There is integration with dataframes using `%%stata -d <df>` if you just want to run regressions on data from python"
   ]
  },
  {
   "cell_type": "code",
   "execution_count": 6,
   "metadata": {},
   "outputs": [],
   "source": [
    "import yfinance as yf\n",
    "import pandas as pd\n",
    "aapl = yf.Ticker(\"AAPL\")\n",
    "msft = yf.Ticker(\"MSFT\")\n",
    "aapl_close = aapl.history().Close\n",
    "msft_close = msft.history().Close"
   ]
  },
  {
   "cell_type": "code",
   "execution_count": 7,
   "metadata": {},
   "outputs": [],
   "source": [
    "data = pd.DataFrame([aapl_close, msft_close])\n",
    "data.index = ['aapl', 'msft']\n",
    "data = data.T"
   ]
  },
  {
   "cell_type": "code",
   "execution_count": 8,
   "metadata": {},
   "outputs": [
    {
     "data": {
      "text/html": [
       "<div>\n",
       "<style scoped>\n",
       "    .dataframe tbody tr th:only-of-type {\n",
       "        vertical-align: middle;\n",
       "    }\n",
       "\n",
       "    .dataframe tbody tr th {\n",
       "        vertical-align: top;\n",
       "    }\n",
       "\n",
       "    .dataframe thead th {\n",
       "        text-align: right;\n",
       "    }\n",
       "</style>\n",
       "<table border=\"1\" class=\"dataframe\">\n",
       "  <thead>\n",
       "    <tr style=\"text-align: right;\">\n",
       "      <th></th>\n",
       "      <th>aapl</th>\n",
       "      <th>msft</th>\n",
       "    </tr>\n",
       "    <tr>\n",
       "      <th>Date</th>\n",
       "      <th></th>\n",
       "      <th></th>\n",
       "    </tr>\n",
       "  </thead>\n",
       "  <tbody>\n",
       "    <tr>\n",
       "      <th>2021-03-01</th>\n",
       "      <td>127.790001</td>\n",
       "      <td>236.940002</td>\n",
       "    </tr>\n",
       "    <tr>\n",
       "      <th>2021-03-02</th>\n",
       "      <td>125.120003</td>\n",
       "      <td>233.869995</td>\n",
       "    </tr>\n",
       "    <tr>\n",
       "      <th>2021-03-03</th>\n",
       "      <td>122.059998</td>\n",
       "      <td>227.559998</td>\n",
       "    </tr>\n",
       "    <tr>\n",
       "      <th>2021-03-04</th>\n",
       "      <td>120.129997</td>\n",
       "      <td>226.729996</td>\n",
       "    </tr>\n",
       "    <tr>\n",
       "      <th>2021-03-05</th>\n",
       "      <td>121.419998</td>\n",
       "      <td>231.600006</td>\n",
       "    </tr>\n",
       "    <tr>\n",
       "      <th>2021-03-08</th>\n",
       "      <td>116.360001</td>\n",
       "      <td>227.389999</td>\n",
       "    </tr>\n",
       "    <tr>\n",
       "      <th>2021-03-09</th>\n",
       "      <td>121.089996</td>\n",
       "      <td>233.779999</td>\n",
       "    </tr>\n",
       "    <tr>\n",
       "      <th>2021-03-10</th>\n",
       "      <td>119.980003</td>\n",
       "      <td>232.419998</td>\n",
       "    </tr>\n",
       "    <tr>\n",
       "      <th>2021-03-11</th>\n",
       "      <td>121.959999</td>\n",
       "      <td>237.130005</td>\n",
       "    </tr>\n",
       "    <tr>\n",
       "      <th>2021-03-12</th>\n",
       "      <td>121.029999</td>\n",
       "      <td>235.750000</td>\n",
       "    </tr>\n",
       "    <tr>\n",
       "      <th>2021-03-15</th>\n",
       "      <td>123.989998</td>\n",
       "      <td>234.809998</td>\n",
       "    </tr>\n",
       "    <tr>\n",
       "      <th>2021-03-16</th>\n",
       "      <td>125.570000</td>\n",
       "      <td>237.710007</td>\n",
       "    </tr>\n",
       "    <tr>\n",
       "      <th>2021-03-17</th>\n",
       "      <td>124.760002</td>\n",
       "      <td>237.039993</td>\n",
       "    </tr>\n",
       "    <tr>\n",
       "      <th>2021-03-18</th>\n",
       "      <td>120.529999</td>\n",
       "      <td>230.720001</td>\n",
       "    </tr>\n",
       "    <tr>\n",
       "      <th>2021-03-19</th>\n",
       "      <td>119.989998</td>\n",
       "      <td>230.350006</td>\n",
       "    </tr>\n",
       "    <tr>\n",
       "      <th>2021-03-22</th>\n",
       "      <td>123.389999</td>\n",
       "      <td>235.990005</td>\n",
       "    </tr>\n",
       "    <tr>\n",
       "      <th>2021-03-23</th>\n",
       "      <td>122.540001</td>\n",
       "      <td>237.580002</td>\n",
       "    </tr>\n",
       "    <tr>\n",
       "      <th>2021-03-24</th>\n",
       "      <td>120.089996</td>\n",
       "      <td>235.460007</td>\n",
       "    </tr>\n",
       "    <tr>\n",
       "      <th>2021-03-25</th>\n",
       "      <td>120.589996</td>\n",
       "      <td>232.339996</td>\n",
       "    </tr>\n",
       "    <tr>\n",
       "      <th>2021-03-26</th>\n",
       "      <td>121.209999</td>\n",
       "      <td>236.479996</td>\n",
       "    </tr>\n",
       "    <tr>\n",
       "      <th>2021-03-29</th>\n",
       "      <td>121.389999</td>\n",
       "      <td>235.240005</td>\n",
       "    </tr>\n",
       "  </tbody>\n",
       "</table>\n",
       "</div>"
      ],
      "text/plain": [
       "                  aapl        msft\n",
       "Date                              \n",
       "2021-03-01  127.790001  236.940002\n",
       "2021-03-02  125.120003  233.869995\n",
       "2021-03-03  122.059998  227.559998\n",
       "2021-03-04  120.129997  226.729996\n",
       "2021-03-05  121.419998  231.600006\n",
       "2021-03-08  116.360001  227.389999\n",
       "2021-03-09  121.089996  233.779999\n",
       "2021-03-10  119.980003  232.419998\n",
       "2021-03-11  121.959999  237.130005\n",
       "2021-03-12  121.029999  235.750000\n",
       "2021-03-15  123.989998  234.809998\n",
       "2021-03-16  125.570000  237.710007\n",
       "2021-03-17  124.760002  237.039993\n",
       "2021-03-18  120.529999  230.720001\n",
       "2021-03-19  119.989998  230.350006\n",
       "2021-03-22  123.389999  235.990005\n",
       "2021-03-23  122.540001  237.580002\n",
       "2021-03-24  120.089996  235.460007\n",
       "2021-03-25  120.589996  232.339996\n",
       "2021-03-26  121.209999  236.479996\n",
       "2021-03-29  121.389999  235.240005"
      ]
     },
     "execution_count": 8,
     "metadata": {},
     "output_type": "execute_result"
    }
   ],
   "source": [
    "data"
   ]
  },
  {
   "cell_type": "code",
   "execution_count": 9,
   "metadata": {},
   "outputs": [
    {
     "name": "stdout",
     "output_type": "stream",
     "text": [
      "\n",
      "      Source |       SS           df       MS      Number of obs   =        21\n",
      "-------------+----------------------------------   F(1, 19)        =     11.55\n",
      "       Model |  46.9120593         1  46.9120593   Prob > F        =    0.0030\n",
      "    Residual |  77.1751304        19  4.06184897   R-squared       =    0.3781\n",
      "-------------+----------------------------------   Adj R-squared   =    0.3453\n",
      "       Total |   124.08719        20  6.20435949   Root MSE        =    2.0154\n",
      "\n",
      "------------------------------------------------------------------------------\n",
      "        aapl |      Coef.   Std. Err.      t    P>|t|     [95% Conf. Interval]\n",
      "-------------+----------------------------------------------------------------\n",
      "        msft |   .4398038   .1294132     3.40   0.003     .1689388    .7106688\n",
      "       _cons |   19.18672   30.24207     0.63   0.533    -44.11067    82.48411\n",
      "------------------------------------------------------------------------------\n"
     ]
    }
   ],
   "source": [
    "%%stata -d data\n",
    "reg aapl msft"
   ]
  },
  {
   "cell_type": "markdown",
   "metadata": {},
   "source": [
    "**Note:** I have not tested this interface widely but would be interested in any user experience feedback if you choose to use this tool"
   ]
  },
  {
   "cell_type": "code",
   "execution_count": null,
   "metadata": {},
   "outputs": [],
   "source": []
  }
 ],
 "metadata": {
  "kernelspec": {
   "display_name": "Python 3",
   "language": "python",
   "name": "python3"
  },
  "language_info": {
   "codemirror_mode": {
    "name": "ipython",
    "version": 3
   },
   "file_extension": ".py",
   "mimetype": "text/x-python",
   "name": "python",
   "nbconvert_exporter": "python",
   "pygments_lexer": "ipython3",
   "version": "3.8.5"
  }
 },
 "nbformat": 4,
 "nbformat_minor": 4
}
